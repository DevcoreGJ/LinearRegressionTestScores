{
  "nbformat": 4,
  "nbformat_minor": 0,
  "metadata": {
    "colab": {
      "provenance": []
    },
    "kernelspec": {
      "name": "python3",
      "display_name": "Python 3"
    },
    "language_info": {
      "name": "python"
    }
  },
  "cells": [
    {
      "cell_type": "markdown",
      "source": [
        "we have students and study time.\n",
        "Study time can go from 0 to the max student values.\n",
        "Then we habve exam results 0 - 100 in percentage\n",
        "\n",
        "x study time\n",
        "y exam score\n",
        "\n",
        "Expectation:\n",
        "\n",
        "no study = bad scores\n",
        "\n",
        "little study = slighlty bad scores\n",
        "\n",
        "a lot of study = great grades\n",
        "\n",
        "a lot of study = bad grades\n",
        "\n",
        "no study = good grades\n",
        "\n",
        "linear regression generates a line of best fit.\n",
        "\n",
        "go through each point if study time is accurate, this is the most likely corresponding y value.\n",
        "\n",
        "We go down and see the errors.\n",
        "\n",
        "The errors are the difference between the prediction and the actual result.\n",
        "\n",
        "the structure of linear regression is y = m*x+b\n",
        "\n",
        "in this example: exam scores are equal to the steepness of the plotted study time multiplied by the values of the study time (how much time studied) plus the distance between the plotted study time (the difference between your study duration and the next persons study duration).\n",
        "\n",
        "We expect the line to fit the points it may be slightly influenced by outliers but it has high accuracy.\n",
        "\n",
        "We need to minimise the error in total.\n",
        "\n",
        "We need to define the error function so we can minimise it.\n",
        "\n",
        "In order to minimise something it needs to be something that produces a value. We want to minimise the value.\n",
        "\n",
        "If we look at y=m*x+b\n",
        "\n",
        "I get the best possible Y with the least error\n",
        "\n",
        "The error function that needs to be defined will be:\n",
        "\n",
        "E = 1/n * sum from i = 0 up until n\n",
        "\n",
        "and now we get y(i) which iw the actual yi value\n",
        "\n",
        "Which we subtract yi_hat for example.\n",
        "\n",
        "We can actually remove that and replace it with:\n",
        "\n",
        "y(i) - m*x +b\n",
        "\n",
        "We can square that and that would be the mean squared error.\n",
        "\n",
        "The mean squared error function. It's not complicated.\n",
        "\n",
        "It is a math way of writing for each point from 0 to the last point. get y value subtract gunction y value. i.e the actual y value and the functional y value.\n",
        "\n",
        "In the end we take all these distances and divide them by n (the amount of points) and use them to map it.\n",
        "\n",
        "This will give us the mean **squared error.**\n",
        "\n",
        "This is the error we are trying to minimise in linear regression.\n",
        "\n",
        "**Below is how does the optimization work:**\n",
        "\n",
        "The X is just the input and y is just the output.\n",
        "\n",
        "We want to find m and b.\n",
        "So we can minimise m and b.\n",
        "\n",
        "How can we do that by taking the partial derivative with respect to m and with respect to b because the gives us the direction of the steepest asccend with respect to m.\n",
        "\n",
        "We need to find how to change m to maximally increase e.\n",
        "\n",
        "We need to find how to change b to maximally increase b.\n",
        "\n",
        "We do want to decrease e but if we just want to subtract the opposide direction it will cancel it out.\n",
        "\n",
        "We are going to take the partial derivative and then we are just going to go to the opposite direction of this gradient.\n",
        "\n",
        "The derivative of e with respect to m is i = 0 all the way to n.\n",
        "\n",
        "minus m * x(i) + b also multiply with the inside derivative. It is this as sum. The factor we end up with is -x(i)\n",
        "\n",
        "## The Direction of the steepest descent in regards to m and b\n",
        "\n",
        "We can simplify this   -2 / n * sum starting from i=0 to the nth degree, x(i) * y(i) (-m * x(i) + b)\n",
        "\n",
        "2E / 2b equals  - 2/n * sum of i all the way to n and then just (y(i)-(m*xi +b))\n",
        "\n",
        "## now the opposite direction\n",
        "\n",
        "Take the new m and assign it the current m - the learning rate * the direction of the steepest ascent.\n",
        "m = m - L * 2E / 2m\n",
        "b = b - L* 2E / 2b\n",
        "\n",
        "\n",
        "Deal with many different variables.\n",
        "\n",
        "This is done to the nth amount of features.\n",
        "\n",
        "This is the direction of the linear ascent so we subtract. The learning rate is the size of the steps we take.\n",
        "\n",
        "The lower the learning the better the resule, As we can pay attention to details more0.0001."
      ],
      "metadata": {
        "id": "4iyBXVKRUlKC"
      }
    },
    {
      "cell_type": "markdown",
      "source": [
        "***Heteroskedasticity*** means that the variance of the errors is not constant across observations. • In particular the variance of the errors may be a function of explanatory variables."
      ],
      "metadata": {
        "id": "HWOrGu3fZGgr"
      }
    },
    {
      "cell_type": "markdown",
      "source": [
        "**Multicolinerity**\n",
        "\n",
        "Multicollinearity is a statistical concept where several independent variables in a model are correlated. Two variables are considered perfectly collinear if their correlation coefficient is +/- 1.0. Multicollinearity among independent variables will result in less reliable statistical inferences."
      ],
      "metadata": {
        "id": "xViq3IBhfb2z"
      }
    },
    {
      "cell_type": "markdown",
      "source": [
        "How do you deal with **Multicolinerity**"
      ],
      "metadata": {
        "id": "L0JG6eLKfp7F"
      }
    },
    {
      "cell_type": "markdown",
      "source": [
        "#3 Choices"
      ],
      "metadata": {
        "id": "jIMj8sbhfzIw"
      }
    },
    {
      "cell_type": "markdown",
      "source": [
        "#Pick one feature (Pick the features)\n",
        "Find the data that is most closely correlated with the target."
      ],
      "metadata": {
        "id": "1dljaZIxf1Wt"
      }
    },
    {
      "cell_type": "markdown",
      "source": [
        "#Combine\n",
        "Add and engineer a columb called rooms."
      ],
      "metadata": {
        "id": "rRtI3Zvdf5ul"
      }
    },
    {
      "cell_type": "markdown",
      "source": [
        "Residuals: normally distributed database."
      ],
      "metadata": {
        "id": "Lsk2cTaFg-3n"
      }
    },
    {
      "cell_type": "markdown",
      "source": [
        "Find fuzzy matching library and look in to Kitchen features"
      ],
      "metadata": {
        "id": "3nF3mUMiiKeL"
      }
    },
    {
      "cell_type": "markdown",
      "source": [
        "Count the amount of kitchen features for one hot encoding"
      ],
      "metadata": {
        "id": "vr8U0fWXiKnX"
      }
    },
    {
      "cell_type": "markdown",
      "source": [
        "**Homoscedasticity**\n",
        "\n",
        "Homoscedasticity, or homogeneity of variances, is an assumption of equal or similar variances in different groups being compared. This is an important assumption of parametric statistical tests because they are sensitive to any dissimilarities. Uneven variances in samples result in biased and skewed test results."
      ],
      "metadata": {
        "id": "8-6tRiXxhL9s"
      }
    },
    {
      "cell_type": "markdown",
      "source": [
        "import libs"
      ],
      "metadata": {
        "id": "ZXtxiSrjlyFP"
      }
    },
    {
      "cell_type": "code",
      "source": [
        "import pandas as pd\n",
        "import matplotlib.pyplot as plt"
      ],
      "metadata": {
        "id": "1xlJgSZInExX"
      },
      "execution_count": 1,
      "outputs": []
    },
    {
      "cell_type": "markdown",
      "source": [
        "**import data**"
      ],
      "metadata": {
        "id": "gVm-fX_snPAl"
      }
    },
    {
      "cell_type": "code",
      "source": [
        "data = pd.read_csv('/content/HoursStudiedAndTestScores.csv')"
      ],
      "metadata": {
        "id": "p6tM3aiJpZrv"
      },
      "execution_count": 2,
      "outputs": []
    },
    {
      "cell_type": "code",
      "source": [
        "print(data)"
      ],
      "metadata": {
        "colab": {
          "base_uri": "https://localhost:8080/"
        },
        "id": "JbtyW7ODpijh",
        "outputId": "f5824aef-4b10-4b95-e43d-2b6ee298897a"
      },
      "execution_count": 3,
      "outputs": [
        {
          "output_type": "stream",
          "name": "stdout",
          "text": [
            "     studyTime  testScores\n",
            "0            1          17\n",
            "1            2           3\n",
            "2            2          22\n",
            "3            2          30\n",
            "4            1          12\n",
            "..         ...         ...\n",
            "109          6          82\n",
            "110          7          75\n",
            "111          6          61\n",
            "112          5          72\n",
            "113          5          77\n",
            "\n",
            "[114 rows x 2 columns]\n"
          ]
        }
      ]
    },
    {
      "cell_type": "markdown",
      "source": [
        "visualise them"
      ],
      "metadata": {
        "id": "T5ZKO8klpnus"
      }
    },
    {
      "cell_type": "code",
      "source": [
        "plt.scatter(data.studyTime , data.testScores)\n",
        "plt.show()"
      ],
      "metadata": {
        "colab": {
          "base_uri": "https://localhost:8080/",
          "height": 265
        },
        "id": "40o37yz0pp45",
        "outputId": "34fae80c-c66b-4ce7-d2c5-847db23605b5"
      },
      "execution_count": 4,
      "outputs": [
        {
          "output_type": "display_data",
          "data": {
            "text/plain": [
              "<Figure size 432x288 with 1 Axes>"
            ],
            "image/png": "[encoded data removed]"
          },
          "metadata": {
            "needs_background": "light"
          }
        }
      ]
    },
    {
      "cell_type": "markdown",
      "source": [
        "Loss function"
      ],
      "metadata": {
        "id": "cLSA99-Pqevd"
      }
    },
    {
      "cell_type": "code",
      "source": [
        "def loss_function(m, b, points):\n",
        "  total_error = 0\n",
        "  for i in range(len(points)):\n",
        "    x = points.iloc[i].studyTime\n",
        "    y = points.iloc[i].testScores\n",
        "    total_error += (y - (m * x + b)) ** 2\n",
        "  total_error / float(len(points))"
      ],
      "metadata": {
        "id": "1F6apylKqdZD"
      },
      "execution_count": 5,
      "outputs": []
    },
    {
      "cell_type": "code",
      "source": [
        "def gradient_descent(m_now, b_now, points, learning_rate):\n",
        "  m_gradient = 0\n",
        "  b_gradient = 0\n",
        "\n",
        "  n = len(points)\n",
        "\n",
        "  for i in range(n):\n",
        "    x = points.iloc[i].studyTime\n",
        "    y = points.iloc[i].testScores\n",
        "\n",
        "    m_gradient += -(2/n) * x * (y - (m_now * x + b_now))\n",
        "    b_gradient += -(2/n) * (y - (m_now * x + b_now))\n",
        "\n",
        "  m = m_now - m_gradient * learning_rate\n",
        "  b = b_now - b_gradient * learning_rate\n",
        "  return m, b"
      ],
      "metadata": {
        "id": "O2VFE73prPk3"
      },
      "execution_count": 6,
      "outputs": []
    },
    {
      "cell_type": "code",
      "source": [
        "m = 0\n",
        "b = 0\n",
        "learning_rate = 0.02\n",
        "epochs = 226 # iterations or test"
      ],
      "metadata": {
        "id": "EvuUPCoHJJAS"
      },
      "execution_count": 19,
      "outputs": []
    },
    {
      "cell_type": "code",
      "source": [
        "for i in range(epochs):\n",
        "  if i % 50 == 0:\n",
        "    print(f\"Epoch: {i}\")\n",
        "    m, b = gradient_descent(m, b, data, learning_rate)\n",
        "    plt.show()\n",
        "print(m, b)"
      ],
      "metadata": {
        "colab": {
          "base_uri": "https://localhost:8080/"
        },
        "id": "XF0B4d9YJN3q",
        "outputId": "8546bef5-edd3-4738-ae3f-f3086bcc7e61"
      },
      "execution_count": 20,
      "outputs": [
        {
          "output_type": "stream",
          "name": "stdout",
          "text": [
            "Epoch: 0\n",
            "Epoch: 50\n",
            "Epoch: 100\n",
            "Epoch: 150\n",
            "Epoch: 200\n",
            "13.418417833544714 3.647398571306794\n"
          ]
        }
      ]
    },
    {
      "cell_type": "code",
      "source": [
        "print(m, b)"
      ],
      "metadata": {
        "colab": {
          "base_uri": "https://localhost:8080/"
        },
        "id": "Rgw4r0SQIri4",
        "outputId": "83aafbad-a78b-49d4-871f-f875d5339dd9"
      },
      "execution_count": 21,
      "outputs": [
        {
          "output_type": "stream",
          "name": "stdout",
          "text": [
            "13.418417833544714 3.647398571306794\n"
          ]
        }
      ]
    },
    {
      "cell_type": "code",
      "source": [
        "plt.scatter(data.studyTime, data.testScores, color=\"black\")\n",
        "plt.plot(list(range(0, 10)), [m * x + b for x in range(0, 10)], color=\"red\")"
      ],
      "metadata": {
        "colab": {
          "base_uri": "https://localhost:8080/",
          "height": 282
        },
        "id": "Hj1zH14SIE2D",
        "outputId": "8a1e9b12-b00e-4fc1-d6ac-e4bc62cdf73b"
      },
      "execution_count": 22,
      "outputs": [
        {
          "output_type": "execute_result",
          "data": {
            "text/plain": [
              "[<matplotlib.lines.Line2D at 0x7fed0cab5340>]"
            ]
          },
          "metadata": {},
          "execution_count": 22
        },
        {
          "output_type": "display_data",
          "data": {
            "text/plain": [
              "<Figure size 432x288 with 1 Axes>"
            ],
            "image/png": "[encoded data removed]"
          },
          "metadata": {
            "needs_background": "light"
          }
        }
      ]
    }
  ]
}